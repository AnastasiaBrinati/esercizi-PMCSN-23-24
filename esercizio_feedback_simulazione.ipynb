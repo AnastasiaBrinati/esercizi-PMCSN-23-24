{
  "nbformat": 4,
  "nbformat_minor": 0,
  "metadata": {
    "colab": {
      "provenance": [],
      "authorship_tag": "ABX9TyOOgkpRv9ZLXn3tIlQ/2g79",
      "include_colab_link": true
    },
    "kernelspec": {
      "name": "python3",
      "display_name": "Python 3"
    },
    "language_info": {
      "name": "python"
    }
  },
  "cells": [
    {
      "cell_type": "markdown",
      "metadata": {
        "id": "view-in-github",
        "colab_type": "text"
      },
      "source": [
        "<a href=\"https://colab.research.google.com/github/AnastasiaBrinati/esercizi-PMCSN-23-24/blob/main/esercizio_feedback_simulazione.ipynb\" target=\"_parent\"><img src=\"https://colab.research.google.com/assets/colab-badge.svg\" alt=\"Open In Colab\"/></a>"
      ]
    },
    {
      "cell_type": "markdown",
      "source": [
        "# ESERCIZIO SSQ CON FEEDBACK"
      ],
      "metadata": {
        "id": "l6rSsEEwnL6n"
      }
    },
    {
      "cell_type": "markdown",
      "source": [
        "####imports"
      ],
      "metadata": {
        "id": "FOBK3t3pnRwN"
      }
    },
    {
      "cell_type": "code",
      "execution_count": 1,
      "metadata": {
        "colab": {
          "base_uri": "https://localhost:8080/"
        },
        "id": "dfx86uTrW3Ya",
        "outputId": "3b271831-39f4-4717-b9ae-2fa88c0f3996"
      },
      "outputs": [
        {
          "output_type": "stream",
          "name": "stdout",
          "text": [
            "Collecting simpy\n",
            "  Downloading simpy-4.1.1-py3-none-any.whl (27 kB)\n",
            "Installing collected packages: simpy\n",
            "Successfully installed simpy-4.1.1\n"
          ]
        }
      ],
      "source": [
        "pip install simpy"
      ]
    },
    {
      "cell_type": "code",
      "source": [
        "import simpy\n",
        "import random\n",
        "from typing_extensions import NamedTuple\n",
        "import datetime"
      ],
      "metadata": {
        "id": "VjILdW1kW4ZW"
      },
      "execution_count": 2,
      "outputs": []
    },
    {
      "cell_type": "code",
      "source": [
        "import numpy as np\n",
        "from matplotlib import pyplot as plt"
      ],
      "metadata": {
        "id": "porHtVVtnJy0"
      },
      "execution_count": 3,
      "outputs": []
    },
    {
      "cell_type": "markdown",
      "source": [
        "#### Resources"
      ],
      "metadata": {
        "id": "yN0nrLP4nVg0"
      }
    },
    {
      "cell_type": "code",
      "source": [
        "SIM_TIME = 10000\n",
        "\n",
        "TIMES = {\n",
        "    'completed_jobs' : 0.0,\n",
        "    'arrival_times' : [],\n",
        "    'waiting_times' : [],\n",
        "    'service_times' : [],\n",
        "    'response_times' : [],\n",
        "    'throughput' : []\n",
        "}"
      ],
      "metadata": {
        "id": "O8M6ah2thRYA"
      },
      "execution_count": 15,
      "outputs": []
    },
    {
      "cell_type": "code",
      "source": [
        "class System(NamedTuple):\n",
        "    server: simpy.Resource"
      ],
      "metadata": {
        "id": "om_iqs5kf7Vd"
      },
      "execution_count": 9,
      "outputs": []
    },
    {
      "cell_type": "code",
      "source": [
        "# use one random number generator to generate multiple\n",
        "# “streams” of random numbers using multiple initial seeds as entry points, one for each\n",
        "# stochastic system component. _leemis_chapter3\n",
        "\n",
        "from numpy.random import default_rng\n",
        "\n",
        "RANDOM_SEED = 123456\n",
        "parent_rng = default_rng(RANDOM_SEED)\n",
        "streams = parent_rng.spawn(3)\n",
        "\n",
        "stream_arrivi = streams[0]\n",
        "stream_feedback = streams[1]\n",
        "stream_servizi = streams[2]"
      ],
      "metadata": {
        "id": "bjceqaMG1YsV"
      },
      "execution_count": 10,
      "outputs": []
    },
    {
      "cell_type": "markdown",
      "source": [
        "#### Fun-cs"
      ],
      "metadata": {
        "id": "EWkHefObnzLw"
      }
    },
    {
      "cell_type": "code",
      "source": [
        "# EVENTUAL FEEDBACK\n",
        "\n",
        "def feedback():\n",
        "  beta = 0.2\n",
        "  r = stream_feedback.random()\n",
        "  if(r <= beta):\n",
        "    # job gets feed back into the system\n",
        "    return 1\n",
        "  # job leaves the system\n",
        "  return 0"
      ],
      "metadata": {
        "id": "MgSgcl2SPH78"
      },
      "execution_count": 11,
      "outputs": []
    },
    {
      "cell_type": "code",
      "source": [
        "def job(env, id, sys):\n",
        "\n",
        "  flag = True\n",
        "  while(flag):\n",
        "\n",
        "    arrival_at_queue = env.now\n",
        "    print(\"job \" + id + ' arrived at %f' % arrival_at_queue)\n",
        "\n",
        "    # Enter the queue, candidates as a request for the server\n",
        "    with sys.server.request() as my_turn:\n",
        "      # Wait until it's our turn\n",
        "      yield my_turn\n",
        "      waiting_time = env.now - arrival_at_queue\n",
        "      print('job ' + id +' waited for %f' % waiting_time)\n",
        "\n",
        "      # Start the service\n",
        "      print('job '+id+' starts being served at %f' % env.now)\n",
        "      service_time = stream_servizi.uniform(1,2)\n",
        "      yield env.timeout(service_time)\n",
        "      # The service process has finished: Resource released automatically\n",
        "      print('job '+id+' finished service at %f' % env.now)\n",
        "\n",
        "      # Save some data\n",
        "      TIMES['service_times'].append(service_time)\n",
        "      TIMES['waiting_times'].append(waiting_time)\n",
        "      TIMES['response_times'].append(waiting_time+service_time)\n",
        "\n",
        "\n",
        "    if(not feedback()):\n",
        "      print(\"job \" + id + \" leaving the system at %f \" % env.now)\n",
        "\n",
        "      TIMES['completed_jobs'] = TIMES['completed_jobs']+1\n",
        "      TIMES['throughput'].append(TIMES['completed_jobs']/env.now)\n",
        "\n",
        "      flag = False"
      ],
      "metadata": {
        "id": "i_Dep7vKdiJH"
      },
      "execution_count": 13,
      "outputs": []
    },
    {
      "cell_type": "code",
      "source": [
        "# GENERATING THE JOBS ARRIVAL FLOW\n",
        "\n",
        "arrival_rate = 0.5\n",
        "\n",
        "def job_arrivals(env, system):\n",
        "    id = 0\n",
        "    while True:\n",
        "        # timeout interarrival times, waiting before generating another job\n",
        "        yield env.timeout(stream_arrivi.exponential(1/arrival_rate))\n",
        "\n",
        "        # simplifying the example with fixed job size (fixed service times)\n",
        "        env.process(job(env, str(id), system))\n",
        "        id += 1"
      ],
      "metadata": {
        "id": "CZXQ8uuXgtSQ"
      },
      "execution_count": 16,
      "outputs": []
    },
    {
      "cell_type": "markdown",
      "source": [
        "#### Simulation"
      ],
      "metadata": {
        "id": "3JKiSsRBn3yA"
      }
    },
    {
      "cell_type": "code",
      "source": [
        "# Setup and start the simulation\n",
        "env = simpy.Environment()\n",
        "\n",
        "# Create system\n",
        "system = System(\n",
        "    server = simpy.Resource(env, capacity=1)\n",
        "    )\n",
        "\n",
        "# Start process and run until SIM_TIME\n",
        "env.process(job_arrivals(env, system))\n",
        "env.run(until=SIM_TIME)"
      ],
      "metadata": {
        "id": "m2Ut_4NLhJ0D"
      },
      "execution_count": null,
      "outputs": []
    },
    {
      "cell_type": "markdown",
      "source": [
        "### Analysis and Results"
      ],
      "metadata": {
        "id": "7dy3XkTRnEew"
      }
    },
    {
      "cell_type": "code",
      "source": [
        "def avg_waiting_times(times):\n",
        "  l = []\n",
        "  waiting_times=times\n",
        "  for i in range(len(times)):\n",
        "    l.append(sum(waiting_times) / len(waiting_times))\n",
        "    waiting_times.pop()\n",
        "  return l[::-1]"
      ],
      "metadata": {
        "id": "jVfuZQbs5Gdo"
      },
      "execution_count": 18,
      "outputs": []
    },
    {
      "cell_type": "code",
      "source": [
        "queuing_time_avg = sum(TIMES['waiting_times']) / len(TIMES['waiting_times'])\n",
        "print(\"Avg waiting time: %f \" % queuing_time_avg)\n",
        "\n",
        "avg_waiting_times = avg_waiting_times(TIMES['waiting_times'])"
      ],
      "metadata": {
        "id": "rY9mftJN7Lb2",
        "outputId": "d702e187-38aa-49db-b89f-bd8173fb3aac",
        "colab": {
          "base_uri": "https://localhost:8080/"
        }
      },
      "execution_count": 19,
      "outputs": [
        {
          "output_type": "stream",
          "name": "stdout",
          "text": [
            "Avg waiting time: 10.221520 \n"
          ]
        }
      ]
    },
    {
      "cell_type": "code",
      "source": [
        "fig = plt.figure(figsize=(13,5))\n",
        "fig.suptitle('Album type distribution for top songs');\n",
        "ax = fig.subplots(nrows=1, ncols=2)\n",
        "\n",
        "#ax[0].plot(TIMES['waiting_times'])\n",
        "ax[0].plot(avg_waiting_times)\n",
        "ax[0].axhline(queuing_time_avg, color='red')\n",
        "ax[0].set_ylabel('seconds')\n",
        "ax[0].set_xlabel(\"n jobs\")\n",
        "#ax[0].set_yticks(np.arange(0,45,2))\n",
        "#ax[0].set_xticks(np.arange(0,700,50))\n",
        "ax[0].set_title(\"Waiting Times\")\n",
        "ax[0].grid(alpha=0.3)\n",
        "\n",
        "ax[1].plot(TIMES['throughput'])\n",
        "ax[1].axhline(0.5, color='red')\n",
        "#ax[1].set_ylabel('seconds')\n",
        "#ax[1].set_xlabel(\"n jobs\")\n",
        "#ax[1].set_yticks(np.arange(0.5,3,0.25))\n",
        "#ax[1].set_xticks(np.arange(0,700,50))\n",
        "ax[1].set_title(\"Throughput\")\n",
        "ax[1].grid(alpha=0.3)\n",
        "\n",
        "fig.tight_layout()"
      ],
      "metadata": {
        "colab": {
          "base_uri": "https://localhost:8080/",
          "height": 512
        },
        "id": "1wcCN6LfhM5D",
        "outputId": "801b2102-6fbf-476f-b61f-78b58c8e3109"
      },
      "execution_count": 21,
      "outputs": [
        {
          "output_type": "display_data",
          "data": {
            "text/plain": [
              "<Figure size 1300x500 with 2 Axes>"
            ],
            "image/png": "[encoded data removed]"
          },
          "metadata": {}
        }
      ]
    },
    {
      "cell_type": "code",
      "source": [],
      "metadata": {
        "id": "5uPl5-gNo4t3"
      },
      "execution_count": null,
      "outputs": []
    }
  ]
}