{
  "nbformat": 4,
  "nbformat_minor": 0,
  "metadata": {
    "colab": {
      "provenance": [],
      "authorship_tag": "ABX9TyPQDKbsbLrSmxsH8Qunp1pl",
      "include_colab_link": true
    },
    "kernelspec": {
      "name": "python3",
      "display_name": "Python 3"
    },
    "language_info": {
      "name": "python"
    }
  },
  "cells": [
    {
      "cell_type": "markdown",
      "metadata": {
        "id": "view-in-github",
        "colab_type": "text"
      },
      "source": [
        "<a href=\"https://colab.research.google.com/github/AnastasiaBrinati/esercizi-PMCSN-23-24/blob/main/esercizio_feedback_simulazione.ipynb\" target=\"_parent\"><img src=\"https://colab.research.google.com/assets/colab-badge.svg\" alt=\"Open In Colab\"/></a>"
      ]
    },
    {
      "cell_type": "markdown",
      "source": [
        "# ESERCIZIO SSQ CON FEEDBACK"
      ],
      "metadata": {
        "id": "l6rSsEEwnL6n"
      }
    },
    {
      "cell_type": "markdown",
      "source": [
        "####imports"
      ],
      "metadata": {
        "id": "FOBK3t3pnRwN"
      }
    },
    {
      "cell_type": "code",
      "execution_count": null,
      "metadata": {
        "colab": {
          "base_uri": "https://localhost:8080/"
        },
        "id": "dfx86uTrW3Ya",
        "outputId": "ff58e516-2d0d-47a7-836a-29d090482a18"
      },
      "outputs": [
        {
          "output_type": "stream",
          "name": "stdout",
          "text": [
            "Collecting simpy\n",
            "  Downloading simpy-4.1.1-py3-none-any.whl (27 kB)\n",
            "Installing collected packages: simpy\n",
            "Successfully installed simpy-4.1.1\n"
          ]
        }
      ],
      "source": [
        "pip install simpy"
      ]
    },
    {
      "cell_type": "code",
      "source": [
        "\n",
        "import simpy\n",
        "import random\n",
        "from typing_extensions import NamedTuple\n",
        "import datetime"
      ],
      "metadata": {
        "id": "VjILdW1kW4ZW"
      },
      "execution_count": null,
      "outputs": []
    },
    {
      "cell_type": "code",
      "source": [
        "import numpy as np\n",
        "from matplotlib import pyplot as plt"
      ],
      "metadata": {
        "id": "porHtVVtnJy0"
      },
      "execution_count": null,
      "outputs": []
    },
    {
      "cell_type": "markdown",
      "source": [
        "#### Resources"
      ],
      "metadata": {
        "id": "yN0nrLP4nVg0"
      }
    },
    {
      "cell_type": "code",
      "source": [
        "SIM_TIME = 10000\n",
        "\n",
        "SSQ = {\n",
        "    'completed_jobs' : 0.0,\n",
        "    'arrival_times' : [],\n",
        "    'waiting_times' : [],\n",
        "    'service_times' : [],\n",
        "    'response_times' : [],\n",
        "    'throughput' : [],\n",
        "}\n",
        "\n",
        "SSQ_FEEDBACK = {\n",
        "    'completed_jobs' : 0.0,\n",
        "    'arrival_times' : [],\n",
        "    'waiting_times' : [],\n",
        "    'service_times' : [],\n",
        "    'response_times' : [],\n",
        "    'throughput' : [],\n",
        "}"
      ],
      "metadata": {
        "id": "O8M6ah2thRYA"
      },
      "execution_count": null,
      "outputs": []
    },
    {
      "cell_type": "code",
      "source": [
        "class System(NamedTuple):\n",
        "    server: simpy.Resource"
      ],
      "metadata": {
        "id": "om_iqs5kf7Vd"
      },
      "execution_count": null,
      "outputs": []
    },
    {
      "cell_type": "code",
      "source": [
        "# use one random number generator to generate multiple\n",
        "# “streams” of random numbers using multiple initial seeds as entry points, one for each\n",
        "# stochastic system component. _leemis_chapter3\n",
        "\n",
        "from numpy.random import default_rng\n",
        "\n",
        "RANDOM_SEED = 123456\n",
        "parent_rng = default_rng(RANDOM_SEED)\n",
        "streams = parent_rng.spawn(5)\n",
        "\n",
        "stream_arrivi = streams[0]\n",
        "stream_servizi = streams[1]\n",
        "stream_feedback = streams[2]\n",
        "stream_arrivi_feedback = streams[3]\n",
        "stream_servizi_feedback = streams[4]"
      ],
      "metadata": {
        "id": "bjceqaMG1YsV"
      },
      "execution_count": null,
      "outputs": []
    },
    {
      "cell_type": "markdown",
      "source": [
        "#### Fun-cs"
      ],
      "metadata": {
        "id": "EWkHefObnzLw"
      }
    },
    {
      "cell_type": "code",
      "source": [
        "# EVENTUAL FEEDBACK\n",
        "\n",
        "def feedback():\n",
        "  beta = 0.2\n",
        "  r = stream_feedback.random()\n",
        "  if(r <= beta):\n",
        "    # job gets feed back into the system\n",
        "    return 1\n",
        "  # job leaves the system\n",
        "  return 0"
      ],
      "metadata": {
        "id": "MgSgcl2SPH78"
      },
      "execution_count": null,
      "outputs": []
    },
    {
      "cell_type": "code",
      "source": [
        "def job(env, id, sys):\n",
        "\n",
        "    arrival_at_queue = env.now\n",
        "    print(\"job \" + id + ' arrived at %f' % arrival_at_queue)\n",
        "\n",
        "    # Enter the queue, candidates as a request for the server\n",
        "    with sys.server.request() as my_turn:\n",
        "      # Wait until it's our turn\n",
        "      yield my_turn\n",
        "      waiting_time = env.now - arrival_at_queue\n",
        "      print('job ' + id +' waited for %f' % waiting_time)\n",
        "\n",
        "      # Start the service\n",
        "      print('job '+id+' starts being served at %f' % env.now)\n",
        "      service_time = stream_servizi.uniform(1,2)\n",
        "      yield env.timeout(service_time)\n",
        "      # The service process has finished: Resource released automatically\n",
        "      print('job '+id+' finished service at %f' % env.now)\n",
        "\n",
        "      # Save some data\n",
        "      SSQ['service_times'].append(service_time)\n",
        "      SSQ['waiting_times'].append(waiting_time)\n",
        "      SSQ['response_times'].append(waiting_time+service_time)\n",
        "      SSQ['completed_jobs'] = SSQ['completed_jobs']+1\n",
        "      SSQ['throughput'].append(SSQ['completed_jobs']/env.now)\n",
        "\n",
        "      print(\"job \" + id + \" leaving the system at %f \" % env.now)"
      ],
      "metadata": {
        "id": "nY2z4fp9ubWt"
      },
      "execution_count": null,
      "outputs": []
    },
    {
      "cell_type": "code",
      "source": [
        "def job_with_feedback(env, id, sys):\n",
        "\n",
        "  flag = True\n",
        "  while(flag):\n",
        "\n",
        "    arrival_at_queue = env.now\n",
        "    print(\"job \" + id + ' arrived at %f' % arrival_at_queue)\n",
        "\n",
        "    # Enter the queue, candidates as a request for the server\n",
        "    with sys.server.request() as my_turn:\n",
        "      # Wait until it's our turn\n",
        "      yield my_turn\n",
        "      waiting_time = env.now - arrival_at_queue\n",
        "      print('job ' + id +' waited for %f' % waiting_time)\n",
        "\n",
        "      # Start the service\n",
        "      print('job '+id+' starts being served at %f' % env.now)\n",
        "      service_time = stream_servizi_feedback.uniform(1,2)\n",
        "      yield env.timeout(service_time)\n",
        "      # The service process has finished: Resource released automatically\n",
        "      print('job '+id+' finished service at %f' % env.now)\n",
        "\n",
        "      # Save some data\n",
        "      SSQ_FEEDBACK['service_times'].append(service_time)\n",
        "      SSQ_FEEDBACK['waiting_times'].append(waiting_time)\n",
        "      SSQ_FEEDBACK['response_times'].append(waiting_time+service_time)\n",
        "\n",
        "      SSQ_FEEDBACK['completed_jobs'] = SSQ_FEEDBACK['completed_jobs']+1\n",
        "      SSQ_FEEDBACK['troughput'].append(SSQ_FEEDBACK['completed_jobs']/env.now)\n",
        "\n",
        "\n",
        "\n",
        "    if(not feedback()):\n",
        "      print(\"job \" + id + \" leaving the system at %f \" % env.now)\n",
        "\n",
        "      # SSQ_FEEDBACK['completed_jobs'] = SSQ_FEEDBACK['completed_jobs']+1\n",
        "      # SSQ_FEEDBACK['throughput'].append(SSQ_FEEDBACK['completed_jobs']/env.now)\n",
        "\n",
        "      flag = False"
      ],
      "metadata": {
        "id": "i_Dep7vKdiJH"
      },
      "execution_count": null,
      "outputs": []
    },
    {
      "cell_type": "code",
      "source": [
        "# GENERATING THE JOBS ARRIVAL FLOW FOR SSQ\n",
        "\n",
        "arrival_rate = 0.5\n",
        "\n",
        "def job_arrivals(env, system):\n",
        "    id = 0\n",
        "    while True:\n",
        "        # timeout interarrival times, waiting before generating another job\n",
        "        yield env.timeout(stream_arrivi.exponential(1/arrival_rate))\n",
        "\n",
        "        # simplifying the example with fixed job size (fixed service times)\n",
        "        env.process(job(env, str(id), system))\n",
        "        id += 1"
      ],
      "metadata": {
        "id": "CZXQ8uuXgtSQ"
      },
      "execution_count": null,
      "outputs": []
    },
    {
      "cell_type": "code",
      "source": [
        "# GENERATING THE JOBS ARRIVAL FLOW FOR SSQ WITH FEEDBACK\n",
        "\n",
        "arrival_rate = 0.5\n",
        "\n",
        "def job_with_feedback_arrivals(env, system):\n",
        "    id = 0\n",
        "    while True:\n",
        "        # timeout interarrival times, waiting before generating another job\n",
        "        yield env.timeout(stream_arrivi_feedback.exponential(1/arrival_rate))\n",
        "\n",
        "        # simplifying the example with fixed job size (fixed service times)\n",
        "        env.process(job_with_feedback(env, str(id), system))\n",
        "        id += 1"
      ],
      "metadata": {
        "id": "vdIeADNLwkxa"
      },
      "execution_count": null,
      "outputs": []
    },
    {
      "cell_type": "markdown",
      "source": [
        "#### Simulation"
      ],
      "metadata": {
        "id": "3JKiSsRBn3yA"
      }
    },
    {
      "cell_type": "code",
      "source": [
        "# SSQ\n",
        "# Setup and start the simulation\n",
        "env_ssq = simpy.Environment()\n",
        "\n",
        "# Create system\n",
        "ssq = System(\n",
        "    server = simpy.Resource(env_ssq, capacity=1)\n",
        "    )\n",
        "\n",
        "# Start process and run until SIM_TIME\n",
        "env_ssq.process(job_arrivals(env_ssq, ssq))\n",
        "env_ssq.run(until=SIM_TIME)"
      ],
      "metadata": {
        "id": "m2Ut_4NLhJ0D"
      },
      "execution_count": null,
      "outputs": []
    },
    {
      "cell_type": "code",
      "source": [
        "# SSQ WITH FEEDBACK\n",
        "# Setup and start the simulation\n",
        "env_ssq_feedback = simpy.Environment()\n",
        "\n",
        "# Create system\n",
        "ssq_feedback = System(\n",
        "    server = simpy.Resource(env_ssq_feedback, capacity=1)\n",
        "    )\n",
        "\n",
        "# Start process and run until SIM_TIME\n",
        "env_ssq_feedback.process(job_with_feedback_arrivals(env_ssq_feedback, ssq_feedback))\n",
        "env_ssq_feedback.run(until=SIM_TIME)"
      ],
      "metadata": {
        "id": "yBh1G-Nfw0Io"
      },
      "execution_count": null,
      "outputs": []
    },
    {
      "cell_type": "markdown",
      "source": [
        "### Analysis and Results"
      ],
      "metadata": {
        "id": "7dy3XkTRnEew"
      }
    },
    {
      "cell_type": "code",
      "source": [
        "def avg_waiting_times(times):\n",
        "  l = []\n",
        "  waiting_times=times\n",
        "  for i in range(len(times)):\n",
        "    l.append(sum(waiting_times) / len(waiting_times))\n",
        "    waiting_times.pop()\n",
        "  return l[::-1]"
      ],
      "metadata": {
        "id": "jVfuZQbs5Gdo"
      },
      "execution_count": null,
      "outputs": []
    },
    {
      "cell_type": "code",
      "source": [
        "ssq_waiting_time_avg = sum(SSQ['waiting_times']) / len(SSQ['waiting_times'])\n",
        "print(\"SSQ Avg waiting time: %f \" % ssq_waiting_time_avg)\n",
        "ssq_avg_waiting_times = avg_waiting_times(SSQ['waiting_times'])\n",
        "\n",
        "ssq_feedback_waiting_time_avg = sum(SSQ_FEEDBACK['waiting_times']) / len(SSQ_FEEDBACK['waiting_times'])\n",
        "print(\"SSQ FEEDBACK Avg waiting time: %f \" % ssq_feedback_waiting_time_avg)\n",
        "ssq_feedback_avg_waiting_times = avg_waiting_times(SSQ_FEEDBACK['waiting_times'])"
      ],
      "metadata": {
        "id": "rY9mftJN7Lb2",
        "outputId": "87bcf4a6-ba5c-4661-8559-19de19f9829a",
        "colab": {
          "base_uri": "https://localhost:8080/"
        }
      },
      "execution_count": null,
      "outputs": [
        {
          "output_type": "stream",
          "name": "stdout",
          "text": [
            "SSQ Avg waiting time: 2.328643 \n",
            "SSQ FEEDBACK Avg waiting time: 9.984782 \n"
          ]
        }
      ]
    },
    {
      "cell_type": "code",
      "source": [
        "fig = plt.figure(figsize=(15,9))\n",
        "ax = fig.subplots(nrows=2, ncols=2)\n",
        "\n",
        "ax[0][0].plot(ssq_avg_waiting_times)\n",
        "ax[0][0].axhline(ssq_waiting_time_avg, color='red')\n",
        "ax[0][0].set_ylabel('seconds')\n",
        "ax[0][0].set_xlabel(\"n jobs\")\n",
        "#ax[0].set_yticks(np.arange(0,45,2))\n",
        "#ax[0].set_xticks(np.arange(0,700,50))\n",
        "ax[0][0].set_title(\"SSQ Waiting Times\")\n",
        "ax[0][0].grid(alpha=0.3)\n",
        "\n",
        "ax[1][0].plot(ssq_feedback_avg_waiting_times)\n",
        "ax[1][0].axhline(ssq_feedback_waiting_time_avg, color='red')\n",
        "ax[1][0].set_ylabel('seconds')\n",
        "ax[1][0].set_xlabel(\"n jobs\")\n",
        "#ax[0].set_yticks(np.arange(0,45,2))\n",
        "#ax[0].set_xticks(np.arange(0,700,50))\n",
        "ax[1][0].set_title(\"SSQ with FEEDBACK Waiting Times\")\n",
        "ax[1][0].grid(alpha=0.3)\n",
        "\n",
        "ax[0][1].plot(SSQ['throughput'])\n",
        "ax[0][1].axhline(0.5, color='red')\n",
        "ax[0][1].set_xlabel(\"n jobs\")\n",
        "#ax[1].set_yticks(np.arange(0.5,3,0.25))\n",
        "#ax[1].set_xticks(np.arange(0,700,50))\n",
        "ax[0][1].set_title(\"SSQ Throughput\")\n",
        "ax[0][1].grid(alpha=0.3)\n",
        "\n",
        "ax[1][1].plot(SSQ_FEEDBACK['throughput'])\n",
        "ax[1][1].axhline(0.5, color='red')\n",
        "ax[1][1].set_xlabel(\"n jobs\")\n",
        "#ax[1].set_yticks(np.arange(0.5,3,0.25))\n",
        "#ax[1].set_xticks(np.arange(0,700,50))\n",
        "ax[1][1].set_title(\"SSQ with FEEDBACK Throughput\")\n",
        "ax[1][1].grid(alpha=0.3)\n",
        "\n",
        "fig.tight_layout()"
      ],
      "metadata": {
        "id": "1wcCN6LfhM5D"
      },
      "execution_count": null,
      "outputs": []
    },
    {
      "cell_type": "code",
      "source": [],
      "metadata": {
        "id": "5uPl5-gNo4t3"
      },
      "execution_count": null,
      "outputs": []
    }
  ]
}